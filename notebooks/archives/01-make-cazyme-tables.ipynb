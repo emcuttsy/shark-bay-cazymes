{
 "cells": [
  {
   "cell_type": "code",
   "execution_count": null,
   "metadata": {},
   "outputs": [],
   "source": [
    "import pandas as pd\n",
    "import numpy as np\n",
    "import matplotlib.pyplot as plt\n",
    "import matplotlib.colors\n",
    "import collections\n",
    "import seaborn as sns"
   ]
  },
  {
   "cell_type": "code",
   "execution_count": 2,
   "metadata": {},
   "outputs": [],
   "source": [
    "# custom helper functions\n",
    "import carbohydrate_helpers as carbo\n",
    "import plot_helpers as plot"
   ]
  },
  {
   "cell_type": "code",
   "execution_count": 3,
   "metadata": {},
   "outputs": [],
   "source": [
    "# data tables\n",
    "EC_df = pd.read_table('data-tables/CAZyme_EC_activities.txt') # EC activities found in CAZymes with manually annotated substrates & activity\n",
    "carbo_df = pd.read_table('data-tables/carbohydrates.txt') # carbohydrates and glycosides with manually annotated structures\n",
    "cazyfam_df = pd.read_table('data-tables/CAZy_fams.txt', index_col=0) # cazyme family vs EC activities and CAZydb description\n",
    "cazyme_df = pd.read_csv('/home/ecutts/sharkBayData/cazymes/results/dbCAN_signalp_cazyfam_vs_mag.csv', index_col=0) # CAZyme counts by family for each MAG (degradation CAZymes only)\n",
    "cazyme_ex_df = pd.read_table('/home/ecutts/sharkBayData/cazymes/results/dbCAN_signalp_cazyfam_vs_mag_ex.csv', index_col=0) # Extracellular CAZyme counts by family for each MAG (degradation CAZymes only)\n",
    "metadata = pd.read_csv('data-tables/mags-meta.csv', index_col=0) # MAG metadata"
   ]
  },
  {
   "cell_type": "markdown",
   "metadata": {},
   "source": [
    "# Substrate auto-mapping\n",
    "Automatically assign substrates and substrate metadata to CAZyme families based on the `carbohydrates.txt` file, and map these data to the MAGs. \n",
    "\n",
    "The accessory functions used in this section are found in `carbohydrate_helpers.py` under the heading `AUTOMAPPING`. "
   ]
  },
  {
   "cell_type": "code",
   "execution_count": 4,
   "metadata": {},
   "outputs": [],
   "source": [
    "# map substrates and activity to CAZymes\n",
    "cazyfam_df = carbo.map_substrates_and_activity(cazyfam_df, carbo_df, EC_df)\n",
    "\n",
    "# add information from a column in carbo_df to a dataframe based on its substrates column.\n",
    "cazyfam_df = carbo.add_substrate_metadata_cols(cazyfam_df, carbo_df)\n",
    "\n",
    "# add count info\n",
    "def get_count_from_fam(fam, cazyme_df):\n",
    "    if fam in cazyme_df.columns:\n",
    "        return(cazyme_df[fam].sum())\n",
    "    else:\n",
    "        return(0)\n",
    "\n",
    "cazyfam_df['count'] = cazyfam_df['family'].apply(get_count_from_fam, args=(cazyme_df,))\n",
    "cazyfam_df['ex_count'] = cazyfam_df['family'].apply(get_count_from_fam, args=(cazyme_ex_df,))\n",
    "\n",
    "\n",
    "cazyfam_df.to_csv('data-tables/CAZy_fams_autoannos.txt')\n",
    "cazyfam_df[cazyfam_df['count'] > 0].to_csv('data-tables/CAZy_fams_autoannos_presentInMAGs.txt')"
   ]
  },
  {
   "cell_type": "markdown",
   "metadata": {},
   "source": [
    "# Manually refine auto-mapped spreadsheet and re-import\n",
    "\n",
    "After creating the automatically generated substrate annotations, go through the spreadsheet and look for cazyme families that were missed by automatic annotation. Some families  don't have EC numbers associated with them, but still have a well-described activity that can be manually added.\n",
    "\n",
    "After manual refinement, re-import the spreadsheet and create a dataframe containing all information about all CAZymes in every MAG. Each row represents the genes in a given family in a given MAG. The `accession` column gives the MAG, the `family` column gives the CAZyme family, and the columns `count` and `ex_count` give the number of genes in the family in that MAG.\n",
    "\n",
    "Relevant functions found in `carbohydrate_helpers.py`"
   ]
  },
  {
   "cell_type": "code",
   "execution_count": 5,
   "metadata": {},
   "outputs": [],
   "source": [
    "cazyfam_df = pd.read_table('data-tables/CAZy_fams_refined_presentInMAGs.txt')\n",
    "cazyfam_df = carbo.add_substrate_metadata_cols(cazyfam_df, carbo_df)\n",
    "combined_cazyfam_df = carbo.make_combined_cazyfam_df(cazyfam_df, cazyme_df, cazyme_ex_df)\n",
    "combined_cazyfam_df.to_csv('data-tables/CAZy_fams_combined_MAGs.tsv', sep='\\t')"
   ]
  },
  {
   "cell_type": "markdown",
   "metadata": {},
   "source": [
    "# Create tables of substrates and bonds targeted by GH and PL that appear in the MAGs\n",
    "\n",
    "GH and PL cleave glycosidic linkages and can therefore be described in common terms, making it easier to lump them together for analysis than it would be to include CE and other families that have different kinds of activity. \n",
    "\n",
    "This code creates two spreadsheets: `shark-bay-substrates.csv` and `shark-bay-bonds.csv`. These are manually annotated in the next step and given categories for analysis. The category assignment is manual, since I thought it was best to look at the diversity of bonds present before deciding which to bin together. \n",
    "\n",
    "One could do this for all substrates and bonds targeted by all CAZymes, but to save time I only addressed those substrates and bonds targeted by CAZymes in my dataset. I think that taking a look at the targets of your dataset specifically is also a good exercise in data exploration.\n",
    "\n",
    "In the future, it would be best to extend the spreadsheet I made here to include all bonds and substrates targeted by CAZymes in CAZydb, so that this process could be skipped and the same spreadsheet could be used in all analyses."
   ]
  },
  {
   "cell_type": "code",
   "execution_count": 6,
   "metadata": {},
   "outputs": [],
   "source": [
    "ghpl_df = cazyfam_df[(cazyfam_df['family'].str.contains('GH') | cazyfam_df['family'].str.contains('PL'))]\n",
    "substrates = collections.Counter(carbo.get_list_from_col(ghpl_df, 'substrates', count_col='count'))\n",
    "ex_substrates = collections.Counter(carbo.get_list_from_col(ghpl_df, 'substrates', count_col='ex_count'))\n",
    "\n",
    "# add in missing (0 count) substrates from ex_counts\n",
    "for key in substrates.keys():\n",
    "    if key not in ex_substrates.keys():\n",
    "        ex_substrates[key] = 0\n",
    "        \n",
    "        \n",
    "\n",
    "# add make substrates dataframe and export\n",
    "\n",
    "substrates = dict(sorted(substrates.items(), key=lambda item: item[1], reverse=True))\n",
    "ex_substrates = dict(sorted(ex_substrates.items(), key=lambda item: item[1], reverse=True))\n",
    "sb_substrates = pd.DataFrame({'count': substrates.values(), 'ex_count': ex_substrates.values()}, index=substrates.keys())\n",
    "sb_substrates['delta'] = sb_substrates['count'] - sb_substrates['ex_count']\n",
    "\n",
    "mags = []\n",
    "ex_mags = []\n",
    "for substrate in substrates.keys(): \n",
    "    families = carbo.get_cazyfams_from_substrate(substrate, ghpl_df, 'substrates')\n",
    "    magids = []\n",
    "    ex_magids = []\n",
    "    for i in families:\n",
    "        if i in cazyme_df.columns:\n",
    "            magids += list(cazyme_df[cazyme_df[i] != 0].index)\n",
    "        if i in cazyme_ex_df.columns:\n",
    "            ex_magids += list(cazyme_ex_df[cazyme_ex_df[i] != 0].index)\n",
    "    mags.append(len(set(magids)))\n",
    "    ex_mags.append(len(set(ex_magids)))\n",
    "\n",
    "sb_substrates['mags'] = mags\n",
    "sb_substrates['ex_mags'] = ex_mags\n",
    "sb_substrates['superfamily'] = pd.Series(sb_substrates.index).apply(carbo.get_substrate_info, args=('superfamily',carbo_df,)).tolist()\n",
    "sb_substrates['family'] = pd.Series(sb_substrates.index).apply(carbo.get_substrate_info, args=('family',carbo_df,)).tolist()\n",
    "sb_substrates['subfamily'] = pd.Series(sb_substrates.index).apply(carbo.get_substrate_info, args=('subfamily',carbo_df,)).tolist()\n",
    "sb_substrates.to_csv('data-tables/shark-bay-substrates.csv')\n",
    "\n",
    "\n",
    "\n",
    "# make bonds dataframe and export\n",
    "\n",
    "sb_activities = ghpl_df['bond activity'].str.split(' ')\n",
    "sb_activities_df = pd.DataFrame({1:sb_activities.str[0], 2:sb_activities.str[1],\n",
    "                                 3:sb_activities.str[2], 4:sb_activities.str[3]})\n",
    "\n",
    "sb_activities_df = sb_activities_df[sb_activities_df[3].notna()]\n",
    "sb_activities_df[4] = sb_activities_df[4].str.split(';').str[0]\n",
    "sb_activities_df = sb_activities_df[sb_activities_df[3] != 'to']\n",
    "sb_bonds = set(sb_activities_df[2] + \" \" + sb_activities_df[3] + \" \" + sb_activities_df[4])\n",
    "\n",
    "ex_combined_cazyfam_df = combined_cazyfam_df[combined_cazyfam_df['ex_count'] != 0]\n",
    "\n",
    "combined_mag_ghpl_df = combined_cazyfam_df[combined_cazyfam_df['family'].str.contains('GH') | combined_cazyfam_df['family'].str.contains('PL')]\n",
    "ex_combined_mag_ghpl_df = combined_mag_ghpl_df[combined_mag_ghpl_df['ex_count'] != 0]\n",
    "mags = []\n",
    "ex_mags = []\n",
    "count = [] # COUNT HAS A PROBLEM \n",
    "ex_count = []\n",
    "sb_bonds = [x for x in sb_bonds if str(x) != 'nan']\n",
    "for i in sb_bonds:\n",
    "    rows_with_bond = combined_mag_ghpl_df[combined_mag_ghpl_df['bond activity'].str.contains(i, regex=False) == True]\n",
    "    ex_rows_with_bond = ex_combined_mag_ghpl_df[ex_combined_mag_ghpl_df['bond activity'].str.contains(i, regex=False) == True]\n",
    "    mags.append(len(set(rows_with_bond['accession'])))\n",
    "    ex_mags.append(len(set(ex_rows_with_bond['accession'])))\n",
    "    count.append(rows_with_bond['count'].sum())\n",
    "    ex_count.append(ex_rows_with_bond['ex_count'].sum())\n",
    "\n",
    "sb_bonds_df = pd.DataFrame({'count': count, 'ex_count': ex_count, 'mags': mags, 'ex_mags': ex_mags}, index=sb_bonds)\n",
    "sb_bonds_df.to_csv('data-tables/shark-bay-bond-targets.csv', sep='\\t')"
   ]
  },
  {
   "cell_type": "markdown",
   "metadata": {},
   "source": [
    "# Manually annotate the bonds and substrates tables\n",
    "\n",
    "The next step is to manually annotate the bonds and substrates tables. Give bonds and substrates categories (`cat1`, `cat2`, `cat3`, with each higher number category being a more specific sub-category) that you want to use for analysis. I do this manually because looking at which bonds/substrates are present is important for deciding how to bin them together. \n",
    "\n",
    "Examples of manually-annotated bonds and substrates tables are available in the `data-tables` folder as `shark-bay-bonds-manualannos.tsv` and `shark-bay-substrates-manualannos.tsv`.\n",
    "\n",
    "Of course, making a bonds and substrates table that works for all CAZymes would be better. But that's beyond the scope of this project.\n",
    "\n",
    "# Import manually annotated bonds and substrate tables and add that information to `combined_cazyfam_df` as dictionaries"
   ]
  },
  {
   "cell_type": "code",
   "execution_count": 7,
   "metadata": {},
   "outputs": [],
   "source": [
    "sb_bonds_df = pd.read_table('data-tables/shark-bay-bonds-manualannos.tsv')\n",
    "sb_subs_df = pd.read_table('data-tables/shark-bay-substrates-manualannos.tsv')\n",
    "    \n",
    "combined_cazyfam_df['substrate cat1'] = combined_cazyfam_df['substrates'].apply(carbo.get_categories_from_activity_string, args=('cat1',sb_subs_df, ), return_strlist=True)\n",
    "combined_cazyfam_df['substrate cat2'] = combined_cazyfam_df['substrates'].apply(carbo.get_categories_from_activity_string, args=('cat2',sb_subs_df, ), return_strlist=True)\n",
    "combined_cazyfam_df['activity cat1'] = combined_cazyfam_df['bond activity'].apply(carbo.get_categories_from_activity_string, args=('cat1',sb_bonds_df, ), return_strlist=True)\n",
    "combined_cazyfam_df['activity cat2'] = combined_cazyfam_df['bond activity'].apply(carbo.get_categories_from_activity_string, args=('cat2',sb_bonds_df, ), return_strlist=True)\n",
    "\n",
    "combined_cazyfam_df.to_csv('data-tables/CAZy_fams_combined_MAGs.tsv', sep='\\t')"
   ]
  },
  {
   "cell_type": "markdown",
   "metadata": {},
   "source": [
    "### Anaylysis continues in `explore-cazymes.ipynb`"
   ]
  }
 ],
 "metadata": {
  "kernelspec": {
   "display_name": "Python 3",
   "language": "python",
   "name": "python3"
  },
  "language_info": {
   "codemirror_mode": {
    "name": "ipython",
    "version": 3
   },
   "file_extension": ".py",
   "mimetype": "text/x-python",
   "name": "python",
   "nbconvert_exporter": "python",
   "pygments_lexer": "ipython3",
   "version": "3.9.5"
  }
 },
 "nbformat": 4,
 "nbformat_minor": 4
}
